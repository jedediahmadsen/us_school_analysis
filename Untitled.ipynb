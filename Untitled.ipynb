{
 "cells": [
  {
   "cell_type": "code",
   "execution_count": null,
   "id": "7f42a722-ea1b-4b91-a7b2-beb6eeed1f36",
   "metadata": {},
   "outputs": [],
   "source": [
    "## Summarize your findings from any of the analysis or plots above:\n",
    "* Were there any interesting Correlations?\n",
    "Racial segregation:\n",
    "Whites were somewhat negatively correlated with Black, American Indian, and Latino students indicating some level of segregation though nothing extreme since the correlation was weak. \n",
    "Whites were not negatively correlated with Asian students.\n",
    "American Indian students were somewhat negatively correlated with all other races possibly as a result of many American Indians attending schools on reservations where they are segregated from other races. \n",
    "\n",
    "Student/Teacher ratio:\n",
    "Student/Teacher ratio was somewhat positively correlated with the total number of students. Ideally, the ratio should stay the same as students increase (i.e., the school should hire more teachers to take care of the added students) so positive correlation is bad. It means that as the students increase, the schools are not hiring enough teachers to compensate. But it isn't terrible—it's only fairly weakly positively correlated.\n",
    "Student/Teacher ratio was positively correlated with the number of Asian, Latino, Mixed-race students. It was only very weakly correlated to the number of Black or White students. Again, a positive correlation is bad so it appears that schools with a greater number of Asian, Latino, and mixed-race students do a slightly worse job hiring enough teachers. \n",
    "\n",
    "\n",
    "* How did your state compare to others?\n",
    "* Would you have made any different decisions in the earlier cleaning stages after becoming more familiar with the data?\n",
    "* What is going on in IL?\n",
    "* What other analysis could be done with this data?\n",
    "\n",
    "```\n",
    "Notes: Strong correlation with teachers means that when the number of students goes up, the number of teachers goes up\n",
    "Strong correlation with student teacher ratio means that when the number of students goes up, the ratio of students to teachers goes up\n",
    "Ideally, the number of teachers should go up so strong correlation between those two is good. \n",
    "Ideally, the ratio should stay the same so weak correlation is good.\n",
    "```\n",
    "\n",
    "100,722\n",
    "81,740"
   ]
  }
 ],
 "metadata": {
  "kernelspec": {
   "display_name": "Python 3 (ipykernel)",
   "language": "python",
   "name": "python3"
  },
  "language_info": {
   "codemirror_mode": {
    "name": "ipython",
    "version": 3
   },
   "file_extension": ".py",
   "mimetype": "text/x-python",
   "name": "python",
   "nbconvert_exporter": "python",
   "pygments_lexer": "ipython3",
   "version": "3.11.5"
  }
 },
 "nbformat": 4,
 "nbformat_minor": 5
}
